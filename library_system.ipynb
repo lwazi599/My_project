{
  "nbformat": 4,
  "nbformat_minor": 0,
  "metadata": {
    "colab": {
      "provenance": [],
      "authorship_tag": "ABX9TyMNRoMyycCxjRkcHbk5uLbg",
      "include_colab_link": true
    },
    "kernelspec": {
      "name": "python3",
      "display_name": "Python 3"
    },
    "language_info": {
      "name": "python"
    }
  },
  "cells": [
    {
      "cell_type": "markdown",
      "metadata": {
        "id": "view-in-github",
        "colab_type": "text"
      },
      "source": [
        "<a href=\"https://colab.research.google.com/github/lwazi599/My_project/blob/main/library_system.ipynb\" target=\"_parent\"><img src=\"https://colab.research.google.com/assets/colab-badge.svg\" alt=\"Open In Colab\"/></a>"
      ]
    },
    {
      "cell_type": "code",
      "execution_count": 1,
      "metadata": {
        "colab": {
          "base_uri": "https://localhost:8080/"
        },
        "id": "BlpptKC81pq0",
        "outputId": "662b790e-f68d-4959-8186-445c87d533ea"
      },
      "outputs": [
        {
          "output_type": "stream",
          "name": "stdout",
          "text": [
            "Books:\n",
            "[{'book_id': 2024001, 'title': 'Python Programming', 'author': 'Jacob Zuma', 'status': 'available'}]\n",
            "\n",
            "Members:\n",
            "[{'member_id': 1, 'name': 'Anelisa Maleka', 'borrowed_books': []}]\n"
          ]
        }
      ],
      "source": [
        "# Task 1A - Managing Books and Members using Lists and Functions with Parameters\n",
        "\n",
        "books = []\n",
        "members = []\n",
        "\n",
        "def add_book(book_id, title, author, status):\n",
        "    books.append({\n",
        "        \"book_id\": book_id,\n",
        "        \"title\": title,\n",
        "        \"author\": author,\n",
        "        \"status\": status\n",
        "    })\n",
        "\n",
        "def add_member(member_id, name):\n",
        "    members.append({\n",
        "        \"member_id\": member_id,\n",
        "        \"name\": name,\n",
        "        \"borrowed_books\": []\n",
        "    })\n",
        "\n",
        "# Adding one book and one member\n",
        "add_book(2024001, \"Python Programming\", \"Jacob Zuma\", \"available\")\n",
        "add_member(1, \"Anelisa Maleka\")\n",
        "\n",
        "# Print current lists\n",
        "print(\"Books:\")\n",
        "print(books)\n",
        "print(\"\\nMembers:\")\n",
        "print(members)\n"
      ]
    },
    {
      "cell_type": "code",
      "source": [],
      "metadata": {
        "id": "irbYQ_On14Eq"
      },
      "execution_count": null,
      "outputs": []
    }
  ]
}